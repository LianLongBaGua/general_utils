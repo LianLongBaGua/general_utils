{
 "cells": [
  {
   "cell_type": "code",
   "execution_count": 1,
   "metadata": {},
   "outputs": [],
   "source": [
    "from elite_trader.auth import authenticate\n",
    "\n",
    "authenticate(\"czl\", \"Vnpy1234\")\n",
    "from useful_tools import *\n",
    "import matplotlib.pyplot as plt"
   ]
  },
  {
   "cell_type": "code",
   "execution_count": 2,
   "metadata": {},
   "outputs": [],
   "source": [
    "from targets_extraction import *\n",
    "from features_extraction import *"
   ]
  },
  {
   "cell_type": "code",
   "execution_count": 34,
   "metadata": {},
   "outputs": [],
   "source": [
    "from sklearn.pipeline import FeatureUnion\n",
    "from sklearn.pipeline import make_pipeline\n",
    "from sklearn.preprocessing import FunctionTransformer\n",
    "from sklearn.kernel_approximation import Nystroem\n",
    "from sklearn.feature_selection import SelectFromModel\n",
    "from sklearn.ensemble import ExtraTreesClassifier, ExtraTreesRegressor"
   ]
  },
  {
   "cell_type": "code",
   "execution_count": 64,
   "metadata": {},
   "outputs": [],
   "source": [
    "df = load_essentials(\"rb99\", \"2019-01-01\", \"2019-1-31\", \"SHFE\")"
   ]
  },
  {
   "cell_type": "code",
   "execution_count": 65,
   "metadata": {},
   "outputs": [],
   "source": [
    "lags = [10, 20, 30]"
   ]
  },
  {
   "cell_type": "code",
   "execution_count": 66,
   "metadata": {},
   "outputs": [],
   "source": [
    "def split_features_target(df: pd.DataFrame):\n",
    "    \"\"\"split features and target\"\"\"\n",
    "    X = df.drop(\n",
    "        [\n",
    "            \"pos_change_signal\",\n",
    "            \"net_pos_signal\",\n",
    "            \"desired_pos_change\",\n",
    "            \"desired_pos_rolling\",\n",
    "        ],\n",
    "        axis=1,\n",
    "    )\n",
    "    y = df[\n",
    "        [\n",
    "            \"pos_change_signal\",\n",
    "            \"net_pos_signal\",\n",
    "            \"desired_pos_change\",\n",
    "            \"desired_pos_rolling\",\n",
    "        ]\n",
    "    ]\n",
    "\n",
    "    return X, y"
   ]
  },
  {
   "cell_type": "code",
   "execution_count": 67,
   "metadata": {},
   "outputs": [],
   "source": [
    "preprocessing_pipeline = make_pipeline(\n",
    "    FunctionTransformer(prepare_desired_pos, kw_args={\"lag\": 50, \"multiplier\": 10}),\n",
    "    FunctionTransformer(generate_all_features_df, kw_args={\"lags\": lags}),\n",
    "    FunctionTransformer(drop_ohlcv_cols),\n",
    "    FunctionTransformer(split_features_target),\n",
    "    verbose=True,\n",
    ")"
   ]
  },
  {
   "cell_type": "code",
   "execution_count": 68,
   "metadata": {},
   "outputs": [],
   "source": [
    "feature_selection_pipeline = make_pipeline(\n",
    "    SelectFromModel(ExtraTreesClassifier(n_estimators=100, random_state=42)),\n",
    "    verbose=True,\n",
    ")"
   ]
  },
  {
   "cell_type": "code",
   "execution_count": 70,
   "metadata": {},
   "outputs": [
    {
     "name": "stdout",
     "output_type": "stream",
     "text": [
      "[Pipeline] ... (step 1 of 1) Processing selectfrommodel, total=   2.1s\n"
     ]
    }
   ],
   "source": [
    "X = feature_selection_pipeline.fit_transform(X, y[\"pos_change_signal\"])"
   ]
  },
  {
   "cell_type": "code",
   "execution_count": 63,
   "metadata": {},
   "outputs": [
    {
     "data": {
      "text/plain": [
       "array([[ 16341.84321287,  32467.72904545,  42638.2432353 , ...,\n",
       "          3388.91158667,   3389.85187684,   3386.94312345],\n",
       "       [ 14310.28757625,  31349.838773  ,  42041.90517814, ...,\n",
       "          3390.23994   ,   3390.13185947,   3388.06296115],\n",
       "       [ 12955.16854739,  30469.43972126,  41570.02591603, ...,\n",
       "          3391.15410667,   3390.80928158,   3389.31867701],\n",
       "       ...,\n",
       "       [ -2258.92838088, -22756.67749057, -53414.46294167, ...,\n",
       "          3643.72728667,   3643.36099842,   3642.42406552],\n",
       "       [ -1947.47025651, -21954.10265452, -52276.5126812 , ...,\n",
       "          3643.86289333,   3643.34595053,   3642.44966322],\n",
       "       [ -1538.81540468, -21104.73145405, -51107.78945116, ...,\n",
       "          3644.14112667,   3643.64243526,   3642.59591586]])"
      ]
     },
     "execution_count": 63,
     "metadata": {},
     "output_type": "execute_result"
    }
   ],
   "source": [
    "X"
   ]
  },
  {
   "cell_type": "code",
   "execution_count": 69,
   "metadata": {},
   "outputs": [
    {
     "name": "stdout",
     "output_type": "stream",
     "text": [
      "[Pipeline]  (step 1 of 4) Processing functiontransformer-1, total=   0.0s\n",
      "[Pipeline]  (step 2 of 4) Processing functiontransformer-2, total=   0.1s\n",
      "[Pipeline]  (step 3 of 4) Processing functiontransformer-3, total=   0.0s\n",
      "[Pipeline]  (step 4 of 4) Processing functiontransformer-4, total=   0.0s\n"
     ]
    }
   ],
   "source": [
    "X, y = preprocessing_pipeline.fit_transform(df)"
   ]
  },
  {
   "cell_type": "code",
   "execution_count": 30,
   "metadata": {},
   "outputs": [],
   "source": [
    "transformer_pipeline = make_pipeline(\n",
    "    FunctionTransformer(prepare_desired_pos, kw_args={\"lag\": 50, \"multiplier\": 10}),\n",
    "    FunctionTransformer(generate_all_features_df, kw_args={\"lags\": [10, 20]}),\n",
    "    FunctionTransformer(drop_ohlcv_cols),\n",
    "    verbose=True,\n",
    ")"
   ]
  },
  {
   "cell_type": "code",
   "execution_count": 37,
   "metadata": {},
   "outputs": [],
   "source": [
    "transformed_df = transformer_pipeline.transform(df)"
   ]
  },
  {
   "cell_type": "code",
   "execution_count": 38,
   "metadata": {},
   "outputs": [],
   "source": [
    "model = SelectFromModel(ExtraTreesClassifier(n_estimators=1000, random_state=42))"
   ]
  },
  {
   "cell_type": "code",
   "execution_count": 39,
   "metadata": {},
   "outputs": [],
   "source": [
    "X = transformed_df.drop(\n",
    "    [\n",
    "        \"pos_change_signal\",\n",
    "        \"net_pos_signal\",\n",
    "        \"desired_pos_change\",\n",
    "        \"desired_pos_rolling\",\n",
    "    ],\n",
    "    axis=1,\n",
    ")\n",
    "y_pos_change_signal = transformed_df.pos_change_signal"
   ]
  },
  {
   "cell_type": "code",
   "execution_count": 44,
   "metadata": {},
   "outputs": [],
   "source": [
    "X_transformed = model.fit_transform(X, y_pos_change_signal)"
   ]
  },
  {
   "cell_type": "code",
   "execution_count": 5,
   "metadata": {},
   "outputs": [
    {
     "data": {
      "text/plain": [
       "<AxesSubplot:xlabel='datetime'>"
      ]
     },
     "execution_count": 5,
     "metadata": {},
     "output_type": "execute_result"
    },
    {
     "data": {
      "image/png": "[encoded data removed]",
      "text/plain": [
       "<Figure size 640x480 with 1 Axes>"
      ]
     },
     "metadata": {},
     "output_type": "display_data"
    }
   ],
   "source": [
    "df[\"balance\"] = df.desired_pos_rolling * (df.close - df.open)\n",
    "df.balance.cumsum().plot()"
   ]
  },
  {
   "cell_type": "code",
   "execution_count": 149,
   "metadata": {},
   "outputs": [],
   "source": [
    "def prepare_desired_pos(df, lag=50, multiplier=10):\n",
    "    scaler = StandardScaler()\n",
    "    df[f\"{lag}m_ret\"] = scaler.fit_transform(\n",
    "        log_return(df.close, length=lag, offset=-lag).values.reshape(-1, 1)\n",
    "    )\n",
    "    df.dropna(inplace=True)\n",
    "    df[\"pos_change\"] = df[f\"{lag}m_ret\"] * multiplier\n",
    "    df[\"pos_change\"] = df[\"pos_change\"].apply(int)\n",
    "    df[\"pos_rolling\"] = df[\"pos_change\"].rolling(lag, min_periods=1).sum()\n",
    "    df.drop(columns=[f\"{lag}m_ret\"], inplace=True)\n",
    "\n",
    "\n",
    "def generate_simple_features(df):\n",
    "    df[\"open_change\"] = df.open.pct_change(50)\n",
    "    df[\"high_change\"] = df.high.pct_change(50)\n",
    "    df[\"low_change\"] = df.low.pct_change(50)\n",
    "    df[\"close_change\"] = df.close.pct_change(50)\n",
    "    df[\"volume_change\"] = df.volume.pct_change(50)\n",
    "    df.dropna(inplace=True)"
   ]
  },
  {
   "cell_type": "code",
   "execution_count": 145,
   "metadata": {},
   "outputs": [],
   "source": [
    "import datetime\n",
    "import seaborn as sns\n",
    "import sklearn\n",
    "from sklearn.ensemble import (\n",
    "    RandomForestRegressor,\n",
    "    BaggingRegressor,\n",
    "    AdaBoostRegressor,\n",
    ")\n",
    "from sklearn.metrics import mean_squared_error\n",
    "from sklearn.model_selection import train_test_split\n",
    "from sklearn.preprocessing import scale\n",
    "from sklearn.tree import DecisionTreeRegressor"
   ]
  },
  {
   "cell_type": "code",
   "execution_count": 166,
   "metadata": {},
   "outputs": [],
   "source": [
    "random_state = 42\n",
    "n_jobs = 4\n",
    "n_estimators = 1000\n",
    "step_factor = 10\n",
    "axis_step = int(n_estimators / step_factor)"
   ]
  },
  {
   "cell_type": "code",
   "execution_count": 159,
   "metadata": {},
   "outputs": [],
   "source": [
    "df = load_essentials(\"rb99\", \"2018-01-01\", \"2019-12-31\", \"SHFE\")\n",
    "prepare_desired_pos(df)\n",
    "generate_simple_features(df)\n",
    "X = df[[\"open_change\", \"high_change\", \"low_change\", \"close_change\", \"volume_change\"]]\n",
    "y = df[[\"pos_change\", \"pos_rolling\"]]"
   ]
  },
  {
   "cell_type": "code",
   "execution_count": 160,
   "metadata": {},
   "outputs": [
    {
     "name": "stderr",
     "output_type": "stream",
     "text": [
      "c:\\Users\\tonyc\\Documents\\GitHub\\usefultools\\useful_tools.py:201: SettingWithCopyWarning: \n",
      "A value is trying to be set on a copy of a slice from a DataFrame\n",
      "\n",
      "See the caveats in the documentation: https://pandas.pydata.org/pandas-docs/stable/user_guide/indexing.html#returning-a-view-versus-a-copy\n",
      "  df.replace([np.inf, -np.inf, np.zeros], 0.0001, inplace=True)\n"
     ]
    }
   ],
   "source": [
    "X = scale(remove_infs_and_zeros(X))"
   ]
  },
  {
   "cell_type": "code",
   "execution_count": 164,
   "metadata": {},
   "outputs": [],
   "source": [
    "X_train, X_test, y_train, y_test = train_test_split(\n",
    "    X, y, test_size=0.3, random_state=random_state\n",
    ")"
   ]
  },
  {
   "cell_type": "code",
   "execution_count": 167,
   "metadata": {},
   "outputs": [],
   "source": [
    "estimators = np.zeros(axis_step)\n",
    "bagging_mse = np.zeros(axis_step)\n",
    "rf_mse = np.zeros(axis_step)\n",
    "boosting_mse = np.zeros(axis_step)"
   ]
  },
  {
   "cell_type": "code",
   "execution_count": 170,
   "metadata": {},
   "outputs": [
    {
     "name": "stdout",
     "output_type": "stream",
     "text": [
      "Bagging Estimator: 10 of 1000...\n",
      "Bagging Estimator: 20 of 1000...\n",
      "Bagging Estimator: 30 of 1000...\n",
      "Bagging Estimator: 40 of 1000...\n",
      "Bagging Estimator: 50 of 1000...\n",
      "Bagging Estimator: 60 of 1000...\n",
      "Bagging Estimator: 70 of 1000...\n",
      "Bagging Estimator: 80 of 1000...\n",
      "Bagging Estimator: 90 of 1000...\n",
      "Bagging Estimator: 100 of 1000...\n",
      "Bagging Estimator: 110 of 1000...\n",
      "Bagging Estimator: 120 of 1000...\n",
      "Bagging Estimator: 130 of 1000...\n",
      "Bagging Estimator: 140 of 1000...\n",
      "Bagging Estimator: 150 of 1000...\n",
      "Bagging Estimator: 160 of 1000...\n",
      "Bagging Estimator: 170 of 1000...\n",
      "Bagging Estimator: 180 of 1000...\n",
      "Bagging Estimator: 190 of 1000...\n",
      "Bagging Estimator: 200 of 1000...\n",
      "Bagging Estimator: 210 of 1000...\n",
      "Bagging Estimator: 220 of 1000...\n",
      "Bagging Estimator: 230 of 1000...\n",
      "Bagging Estimator: 240 of 1000...\n",
      "Bagging Estimator: 250 of 1000...\n",
      "Bagging Estimator: 260 of 1000...\n",
      "Bagging Estimator: 270 of 1000...\n",
      "Bagging Estimator: 280 of 1000...\n",
      "Bagging Estimator: 290 of 1000...\n",
      "Bagging Estimator: 300 of 1000...\n",
      "Bagging Estimator: 310 of 1000...\n",
      "Bagging Estimator: 320 of 1000...\n"
     ]
    }
   ],
   "source": [
    "for i in range(0, axis_step):\n",
    "    print(\"Bagging Estimator: %d of %d...\" % (step_factor * (i + 1), n_estimators))\n",
    "    bagging = BaggingRegressor(\n",
    "        DecisionTreeRegressor(),\n",
    "        n_estimators=step_factor * (i + 1),\n",
    "        n_jobs=n_jobs,\n",
    "        random_state=random_state,\n",
    "    )\n",
    "    bagging.fit(X_train, y_train)\n",
    "    mse = mean_squared_error(y_test, bagging.predict(X_test))\n",
    "    estimators[i] = step_factor * (i + 1)\n",
    "    bagging_mse[i] = mse"
   ]
  },
  {
   "cell_type": "code",
   "execution_count": null,
   "metadata": {},
   "outputs": [],
   "source": [
    "for i in range(0, axis_step):\n",
    "    print(\n",
    "        \"Random Forest Estimator: %d of %d...\" % (step_factor * (i + 1), n_estimators)\n",
    "    )\n",
    "    rf = RandomForestRegressor(\n",
    "        n_estimators=step_factor * (i + 1), n_jobs=n_jobs, random_state=random_state\n",
    "    )\n",
    "    tf.fit(X_train, y_train)\n",
    "    mse = mean_squared_srror(y_test, rf.predict(X_test))\n",
    "    estimators[i] = step_factor * (i + 1)\n",
    "    rf_mse[i] = mse"
   ]
  },
  {
   "cell_type": "code",
   "execution_count": null,
   "metadata": {},
   "outputs": [],
   "source": [
    "for i in range(0, axis_step):\n",
    "    print(\"Boosting Estimator: %d of %d...\" %(\n",
    "        step_factor*(i+1), n_estimators\n",
    "    ))\n",
    "    boosting = AdaBoostRegressor(\n",
    "        DecisionTreeRegressor()\n",
    "        n_estimators=step_factor*(i+1),\n",
    "        random_state=random_state,\n",
    "        learning_rate=0.01\n",
    "    )\n",
    "    boosting.fit(X_train, y_train)\n",
    "    mse = mean_saquared_error(y_test, boosting.predict(X_test))\n",
    "    estimators[i] = step_factor*(i+1)\n",
    "    boosing_mse[i] = mse"
   ]
  },
  {
   "cell_type": "code",
   "execution_count": null,
   "metadata": {},
   "outputs": [],
   "source": []
  }
 ],
 "metadata": {
  "kernelspec": {
   "display_name": "Python 3",
   "language": "python",
   "name": "python3"
  },
  "language_info": {
   "codemirror_mode": {
    "name": "ipython",
    "version": 3
   },
   "file_extension": ".py",
   "mimetype": "text/x-python",
   "name": "python",
   "nbconvert_exporter": "python",
   "pygments_lexer": "ipython3",
   "version": "3.10.9"
  },
  "orig_nbformat": 4
 },
 "nbformat": 4,
 "nbformat_minor": 2
}
